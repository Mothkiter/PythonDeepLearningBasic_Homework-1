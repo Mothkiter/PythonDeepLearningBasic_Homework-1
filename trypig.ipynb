{
 "cells": [
  {
   "cell_type": "code",
   "execution_count": 6,
   "metadata": {},
   "outputs": [],
   "source": [
    "import requests\n",
    "from bs4 import BeautifulSoup"
   ]
  },
  {
   "cell_type": "code",
   "execution_count": 92,
   "metadata": {},
   "outputs": [],
   "source": [
    "headers = {'User-Agent':'Mozilla/5.0 (Windows NT 10.0; Win64; x64) AppleWebKit/537.36 (KHTML, like Gecko) Chrome/111.0.0.0 Safari/537.36 Edg/111.0.1661.54'}"
   ]
  },
  {
   "cell_type": "code",
   "execution_count": 4,
   "metadata": {},
   "outputs": [
    {
     "name": "stdout",
     "output_type": "stream",
     "text": [
      "目前能免费获取的数据为2021年4月到2023年2月\n"
     ]
    }
   ],
   "source": [
    "print('目前能免费获取的数据为2021年4月到2023年2月')\n",
    "\n",
    "\n",
    "year = 2022\n",
    "month = 12\n",
    "if  month<= 12 and month>=10:\n",
    "            url = 'http://www.moa.gov.cn/ztzl/szcpxx/jdsj/'+str(year)+'/'+str(year)+str(month)+'/'\n",
    "elif month<=9 and month>=1:\n",
    "    url = 'http://www.moa.gov.cn/ztzl/szcpxx/jdsj/'+str(year)+'/'+str(year)+'0'+str(month)+'/'\n",
    "else:\n",
    "    raise ValueError(\"请输入一个真正的月份\")"
   ]
  },
  {
   "cell_type": "code",
   "execution_count": 8,
   "metadata": {},
   "outputs": [],
   "source": [
    "response = requests.get(url)\n",
    "bs = BeautifulSoup(response.content)"
   ]
  },
  {
   "cell_type": "code",
   "execution_count": 63,
   "metadata": {},
   "outputs": [
    {
     "name": "stdout",
     "output_type": "stream",
     "text": [
      "1. 2022年4季度末能繁母猪存栏（万头）:4390（相当于正常保有量的107%，产能大幅增加，处于黄色区域）[数值] 0.6%[环比] 1.4%[同比] \n",
      "2. 2022年4季度末生猪存栏（万头）:45256[数值] 1.9%[环比] 0.7[同比] \n",
      "3. 2022年生猪出栏（万头）:69995[数值] —[环比] 4.3%[同比] \n",
      "4. 2022年12月份规模以上生猪定点屠宰企业屠宰量（万头）:3090[数值] 36.2%[环比] 6.7%[同比] \n",
      "5. 2022年1-12月规模以上生猪定点屠宰企业屠宰量（万头）:28538[数值] —[环比] 7.8%[同比] \n",
      "6. 2022年猪肉产量（万吨）:5541[数值] —[环比] 4.6%[同比] \n",
      "7. 2022年12月份全国二元母猪销售价格（元/公斤）:41.30[数值] -4.8%[环比] 5.4%[同比] \n",
      "8. 2022年12月份全国仔猪价格（元/公斤）:41.00[数值] -10.9%[环比] 46.5%[同比] \n",
      "9. 2022年12月份全国生猪出场价格（元/公斤）:20.93[数值] -18.6%[环比] 16.6%[同比] \n",
      "10. 2022年12月份全国批发市场白条猪价格（元/公斤）:29.22[数值] -13.8%[环比] 21.8%[同比] \n",
      "11. 2022年12月份36个大中城市批发市场白条猪价格（元/公斤）:28.81[数值] -14.1%[环比] 22.6%[同比] \n",
      "12. 2022年12月份36个大中城市猪肉（精瘦肉）零售价格（元/公斤）:43.00[数值] -5.7%[环比] 25.2%[同比] \n",
      "13. 2022年12月份36个大中城市猪肉（后腿肉）零售价格（元/公斤）:39.43[数值] -5.4%[环比] 16.4%[同比] \n",
      "14. 2022年12月份县乡集贸市场猪肉零售价格（元/公斤）:35.92[数值] -11.6%[环比] 26.4%[同比] \n",
      "15. 2022年居民家庭人均猪肉消费量（公斤/年·人）:26.9[数值] —[环比] 6.7%[同比] \n",
      "16. 2022年12月进口猪肉（万吨）:20.05[数值] 10.8%[环比] 20.1%[同比] \n",
      "17. 2022年12月进口猪杂碎（万吨）:10.62[数值] 8.4%[环比] 1.8%[同比] \n",
      "18. 2022年12月出口猪肉（万吨）:0.24[数值] 9.8%[环比] -6.2%[同比] \n",
      "19. 2022年12月出口猪杂碎（万吨）:0.54[数值] -11.9%[环比] -9.9%[同比] \n",
      "20. 2022年1-12月累计进口猪肉（万吨）:175.79[数值] —[环比] -52.6%[同比] \n",
      "21. 2022年1-12月累计进口猪杂碎（万吨）:110.50[数值] —[环比] -14.6%[同比] \n",
      "22. 2022年1-12月累计出口猪肉（万吨）:2.74[数值] —[环比] 51.3%[同比] \n",
      "23. 2022年1-12月累计出口猪杂碎（万吨）:6.68[数值] —[环比] 2.6%[同比] \n",
      "24. 2022年12月份猪粮比价:7.02[数值] -19.4%[环比] 8.2%[同比] \n",
      "25. 2022年12月份散养生猪每头产值（元）:2685[数值] -17.3%[环比] 13.4%[同比] \n",
      "26. 2022年12月份散养生猪每头成本（元）:2369[数值] 0.1%[环比] 14.2%[同比] \n",
      "27. 2022年12月份散养生猪每头净利润（元）:316[数值] -64.0%[环比] 7.4%[同比] \n",
      "28. 2022年12月份规模养殖生猪每头产值（元）:2755[数值] -17.5%[环比] 17.1%[同比] \n",
      "29. 2022年12月份规模养殖生猪每头成本（元）:2291[数值] -0.3%[环比] 11.8%[同比] \n",
      "30. 2022年12月份规模养殖生猪每头净利润（元）:474[数值] -55.1%[环比] 52.4%[同比] \n"
     ]
    }
   ],
   "source": [
    "i = -1\n",
    "n = 1\n",
    "for table in bs.select('table.data_table_mobile.pcNone'):\n",
    "    for td in table.select('td.right_data'):\n",
    "        i = i+1\n",
    "        if i %5==0:\n",
    "            print( n,end='. ')\n",
    "            n = n+1\n",
    "        if i %5==1:\n",
    "            print( td.text.strip(),end=':')\n",
    "        if i %5==2:\n",
    "            print( td.text.strip(),end='[数值] ')\n",
    "        if i %5==3:\n",
    "            print( td.text.strip(),end='[环比] ')\n",
    "        if i %5==4:\n",
    "            print( td.text.strip(),end='[同比] \\n')\n",
    "        \n",
    "        "
   ]
  },
  {
   "cell_type": "code",
   "execution_count": 93,
   "metadata": {},
   "outputs": [],
   "source": [
    "\n",
    "exc = bs.select('div.rightCont > a')[0]\n",
    "a = exc.get('href')\n",
    "url_excel = 'http://www.moa.gov.cn/ztzl/szcpxx/jdsj/'+str(a)[2:-1]\n",
    "excel = requests.get(url_excel,headers = headers)\n",
    "with open('./file.xlsx', 'wb') as f:\n",
    "    f.write(response.content)"
   ]
  },
  {
   "cell_type": "code",
   "execution_count": 75,
   "metadata": {},
   "outputs": [
    {
     "name": "stdout",
     "output_type": "stream",
     "text": [
      "<td class=\"right_data\"> 2022年12月份全国二元母猪销售价格（元/公斤） </td>\n"
     ]
    }
   ],
   "source": [
    "selected_element = bs.select('td:contains(\"2022年12月份全国二元母猪销售价格（元/公斤）\")')\n",
    "print(selected_element[1])"
   ]
  },
  {
   "cell_type": "code",
   "execution_count": 78,
   "metadata": {},
   "outputs": [
    {
     "name": "stdout",
     "output_type": "stream",
     "text": [
      "\n",
      "\n"
     ]
    }
   ],
   "source": [
    "selected_code_block = selected_element[0].next_sibling\n",
    "print(selected_code_block)"
   ]
  }
 ],
 "metadata": {
  "kernelspec": {
   "display_name": "torch",
   "language": "python",
   "name": "python3"
  },
  "language_info": {
   "codemirror_mode": {
    "name": "ipython",
    "version": 3
   },
   "file_extension": ".py",
   "mimetype": "text/x-python",
   "name": "python",
   "nbconvert_exporter": "python",
   "pygments_lexer": "ipython3",
   "version": "3.10.4"
  },
  "orig_nbformat": 4
 },
 "nbformat": 4,
 "nbformat_minor": 2
}
